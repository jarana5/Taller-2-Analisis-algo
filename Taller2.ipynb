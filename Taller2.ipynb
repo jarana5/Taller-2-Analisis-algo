{
  "nbformat": 4,
  "nbformat_minor": 0,
  "metadata": {
    "colab": {
      "provenance": []
    },
    "kernelspec": {
      "name": "python3",
      "display_name": "Python 3"
    },
    "language_info": {
      "name": "python"
    }
  },
  "cells": [
    {
      "cell_type": "code",
      "execution_count": 3,
      "metadata": {
        "id": "h3nl9tFC5vR8"
      },
      "outputs": [],
      "source": [
        "import random\n",
        "def enc_aux(b,e,num):\n",
        "  if(b>e):\n",
        "    return 0\n",
        "  else:\n",
        "\n",
        "    q=round((b+e)/2)\n",
        "    print(f\"El numero adivinado por el algoritmo es:{q}\")\n",
        "    if(q>num):\n",
        "      print(\"El numero es menor\\n\")\n",
        "      return enc_aux(b,q,num)\n",
        "    elif(q<num):\n",
        "      print(\"El numero es mayor\\n\")\n",
        "      return enc_aux(q,e,num)\n",
        "\n",
        "    else:\n",
        "      print(\"El numero es correcto\")\n",
        "      return q\n",
        "\n",
        "def encontrar():\n",
        "  rango = random.randint(1, 1000)\n",
        "  print(f\"El rango del numero va desde 0 a {rango}\")\n",
        "  numero=int(input(\"Ingrese el numero a advinar\"))\n",
        "  while(numero>rango):\n",
        "    numero=int(input(\"El numero ingresado es mayor al rango dado seleccione otro numero\"))\n",
        "  adivinado=enc_aux(0,rango,numero)\n",
        "\n"
      ]
    },
    {
      "cell_type": "code",
      "source": [
        "encontrar()"
      ],
      "metadata": {
        "colab": {
          "base_uri": "https://localhost:8080/"
        },
        "id": "xnvuFPKS8OrH",
        "outputId": "22b72cff-23b6-4321-c0e8-20dc803b043f"
      },
      "execution_count": 4,
      "outputs": [
        {
          "output_type": "stream",
          "name": "stdout",
          "text": [
            "El rango del numero va desde 0 a 128\n",
            "Ingrese el numero a advinar120\n",
            "El numero adivinado por el algoritmo es:64.0\n",
            "El numero es mayor\n",
            "\n",
            "El numero adivinado por el algoritmo es:96.0\n",
            "El numero es mayor\n",
            "\n",
            "El numero adivinado por el algoritmo es:112.0\n",
            "El numero es mayor\n",
            "\n",
            "El numero adivinado por el algoritmo es:120.0\n",
            "El numero es correcto\n"
          ]
        }
      ]
    }
  ]
}